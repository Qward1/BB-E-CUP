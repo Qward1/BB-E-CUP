{
 "cells": [
  {
   "metadata": {},
   "cell_type": "markdown",
   "source": "Эксперименты с text моделями",
   "id": "3546bbf842a2c72b"
  },
  {
   "metadata": {
    "ExecuteTime": {
     "end_time": "2025-08-22T10:44:06.163073Z",
     "start_time": "2025-08-22T10:44:06.148013Z"
    }
   },
   "cell_type": "code",
   "source": [
    "import pandas as pd\n",
    "import numpy as np\n",
    "from typing import Dict, List, Optional, Set\n",
    "from collections import Counter\n",
    "import Levenshtein\n",
    "import matplotlib.pyplot as plt\n",
    "from IPython.core.oinspect import get_encoding\n",
    "from category_encoders import CatBoostEncoder\n",
    "from src import future_extract as fe\n",
    "from src import text_model as tm\n",
    "import matplotlib as mpl\n",
    "import seaborn as sns\n",
    "\n",
    "\n",
    "from sklearn.model_selection import train_test_split, cross_val_score\n",
    "from sklearn.compose import ColumnTransformer\n",
    "from sklearn.preprocessing import StandardScaler, OneHotEncoder\n",
    "from sklearn.pipeline import Pipeline\n",
    "from sklearn.metrics import accuracy_score, f1_score, roc_auc_score, classification_report, confusion_matrix\n",
    "from sklearn.ensemble import RandomForestClassifier\n",
    "from xgboost import XGBClassifier\n",
    "mpl.style.use('ggplot')\n",
    "sns.set_style('white')\n",
    "from src import preproces_text as pt\n",
    "import importlib\n",
    "importlib.reload(pt)"
   ],
   "id": "753784c6d444e545",
   "outputs": [
    {
     "data": {
      "text/plain": [
       "<module 'src.preproces_text' from '/Users/vladislavdemin/PycharmProjects/BB-E-CUP/src/preproces_text.py'>"
      ]
     },
     "execution_count": 10,
     "metadata": {},
     "output_type": "execute_result"
    }
   ],
   "execution_count": 10
  },
  {
   "metadata": {
    "ExecuteTime": {
     "end_time": "2025-08-22T11:42:42.294920Z",
     "start_time": "2025-08-22T11:42:39.608528Z"
    }
   },
   "cell_type": "code",
   "source": [
    "path_train = '/Users/vladislavdemin/Desktop/ml_hack/ml_ozon_сounterfeit_train.csv'\n",
    "path_test = '/Users/vladislavdemin/Desktop/ml_hack/ml_ozon_сounterfeit_test.csv'\n",
    "\n",
    "metadata_raw = pd.read_csv('/Users/vladislavdemin/Desktop/ml_hack/processed_data.csv')\n",
    "metadata_val = pd.read_csv('/Users/vladislavdemin/Desktop/ml_hack/processed_datatest.csv')"
   ],
   "id": "10b5df1f4ab074f8",
   "outputs": [],
   "execution_count": 132
  },
  {
   "metadata": {
    "ExecuteTime": {
     "end_time": "2025-08-22T11:42:45.287785Z",
     "start_time": "2025-08-22T11:42:44.875717Z"
    }
   },
   "cell_type": "code",
   "source": "data_val2 = pd.read_csv('/Users/vladislavdemin/Desktop/ml_hack/ml_ozon_сounterfeit_test.csv')",
   "id": "c1e2a00360d0addc",
   "outputs": [],
   "execution_count": 133
  },
  {
   "metadata": {
    "ExecuteTime": {
     "end_time": "2025-08-22T11:42:21.273017Z",
     "start_time": "2025-08-22T11:39:47.264737Z"
    }
   },
   "cell_type": "code",
   "source": "data_raw, data_val = pt.full_preprocess(path_train, path_test, get_encoder='ohe')",
   "id": "7ac5962dc3d7d3a9",
   "outputs": [
    {
     "name": "stdout",
     "output_type": "stream",
     "text": [
      "Initialized TF-IDF + SVD (fast mode)\n",
      "Processing DataFrame with 197198 rows\n",
      "Text column: description\n",
      "Encoding texts using fast strategy...\n"
     ]
    },
    {
     "name": "stderr",
     "output_type": "stream",
     "text": [
      "Encoding batches: 100%|██████████| 1972/1972 [00:48<00:00, 40.83it/s]\n"
     ]
    },
    {
     "name": "stdout",
     "output_type": "stream",
     "text": [
      "Created 100 embedding columns\n",
      "Final DataFrame shape: (197198, 148)\n",
      "Processing DataFrame with 22760 rows\n",
      "Text column: description\n",
      "Encoding texts using fast strategy...\n"
     ]
    },
    {
     "name": "stderr",
     "output_type": "stream",
     "text": [
      "Encoding batches: 100%|██████████| 228/228 [00:05<00:00, 39.12it/s]\n"
     ]
    },
    {
     "name": "stdout",
     "output_type": "stream",
     "text": [
      "Created 100 embedding columns\n",
      "Final DataFrame shape: (22760, 147)\n",
      "Processing DataFrame with 197198 rows\n",
      "Text column: name_rus\n",
      "Encoding texts using fast strategy...\n"
     ]
    },
    {
     "name": "stderr",
     "output_type": "stream",
     "text": [
      "Encoding batches: 100%|██████████| 198/198 [00:06<00:00, 32.41it/s]\n"
     ]
    },
    {
     "name": "stdout",
     "output_type": "stream",
     "text": [
      "Created 100 embedding columns\n",
      "Final DataFrame shape: (197198, 120)\n",
      "Processing DataFrame with 22760 rows\n",
      "Text column: name_rus\n",
      "Encoding texts using fast strategy...\n"
     ]
    },
    {
     "name": "stderr",
     "output_type": "stream",
     "text": [
      "Encoding batches: 100%|██████████| 23/23 [00:00<00:00, 26.34it/s]\n"
     ]
    },
    {
     "name": "stdout",
     "output_type": "stream",
     "text": [
      "Created 100 embedding columns\n",
      "Final DataFrame shape: (22760, 120)\n"
     ]
    }
   ],
   "execution_count": 130
  },
  {
   "metadata": {
    "ExecuteTime": {
     "end_time": "2025-08-22T11:00:06.138443Z",
     "start_time": "2025-08-22T11:00:06.134241Z"
    }
   },
   "cell_type": "code",
   "source": "",
   "id": "4b0e44b5c67861e3",
   "outputs": [],
   "execution_count": null
  },
  {
   "metadata": {
    "ExecuteTime": {
     "end_time": "2025-08-22T11:42:49.739178Z",
     "start_time": "2025-08-22T11:42:48.471390Z"
    }
   },
   "cell_type": "code",
   "source": [
    "metadata_raw = metadata_raw.drop(['low_price_flag', 'ItemID', \"name_rus\",\"has_name\",\"has_category\",\"high_price_flag\", 'id'],axis=1)\n",
    "metadata_val = metadata_val.drop(['low_price_flag', 'ItemID', \"name_rus\",\"has_name\",\"has_category\",\"high_price_flag\", 'id'],axis=1)\n",
    "\n",
    "metadata_raw['resolution'] = data_raw['resolution']\n",
    "\n",
    "metadata_raw_clean, metadata_val_clean = pt.clean_small_brands(metadata_raw, metadata_val)\n",
    "metadata_raw_clean_enc, metadata_val_clean_enc = pt.poluchenie_dummy(metadata_raw_clean, metadata_val_clean, data_raw)\n"
   ],
   "id": "2d344665544204de",
   "outputs": [],
   "execution_count": 134
  },
  {
   "metadata": {
    "ExecuteTime": {
     "end_time": "2025-08-22T11:43:37.880679Z",
     "start_time": "2025-08-22T11:43:36.982517Z"
    }
   },
   "cell_type": "code",
   "source": [
    "data_raw1 = data_raw.drop(['brand_name', 'CommercialTypeName4', 'resolution'], axis=1)\n",
    "data_val1 = data_val.drop(['brand_name', 'CommercialTypeName4', ], axis=1)\n",
    "\n",
    "conecting_data_raw = pd.concat([metadata_raw_clean_enc ,data_raw1], axis=1) \n",
    "conecting_data_val = pd.concat([metadata_val_clean_enc ,data_val1], axis=1) "
   ],
   "id": "cc02c21d848ef176",
   "outputs": [],
   "execution_count": 136
  },
  {
   "metadata": {
    "ExecuteTime": {
     "end_time": "2025-08-22T11:43:52.234619Z",
     "start_time": "2025-08-22T11:43:51.602259Z"
    }
   },
   "cell_type": "code",
   "source": [
    "conecting_data_raw = conecting_data_raw.drop('resolution', axis=1)\n",
    "conecting_data_raw['resolution'] = data_raw['resolution']"
   ],
   "id": "a12084a90c57fff7",
   "outputs": [],
   "execution_count": 137
  },
  {
   "metadata": {
    "ExecuteTime": {
     "end_time": "2025-08-22T11:30:00.395004Z",
     "start_time": "2025-08-22T11:30:00.336766Z"
    }
   },
   "cell_type": "code",
   "source": "conecting_data_raw",
   "id": "fe180bdf3a79edc5",
   "outputs": [
    {
     "data": {
      "text/plain": [
       "        brand_name  CommercialTypeName4  rating_1_count  rating_2_count  \\\n",
       "0         0.003009             0.001202             6.0             4.0   \n",
       "1         0.001068             0.001003             0.0             0.0   \n",
       "2         0.090094             0.000164             0.0             0.0   \n",
       "3         0.088466             0.000028             0.0             0.0   \n",
       "4         0.088466             0.000028             1.0             0.0   \n",
       "...            ...                  ...             ...             ...   \n",
       "197193    0.019910             0.573606             4.0             1.0   \n",
       "197194    0.059817             0.122101             0.0             0.0   \n",
       "197195    0.250919             0.122101             1.0             1.0   \n",
       "197196    0.108964             0.467145            55.0            30.0   \n",
       "197197    0.014591             0.016533            45.0            16.0   \n",
       "\n",
       "        rating_3_count  rating_4_count  rating_5_count  \\\n",
       "0                  4.0             3.0            32.0   \n",
       "1                  0.0             0.0             0.0   \n",
       "2                  1.0             0.0             1.0   \n",
       "3                  0.0             0.0             0.0   \n",
       "4                  0.0             0.0             0.0   \n",
       "...                ...             ...             ...   \n",
       "197193             0.0             6.0            60.0   \n",
       "197194             0.0             1.0            31.0   \n",
       "197195             1.0             0.0            27.0   \n",
       "197196            27.0            21.0            72.0   \n",
       "197197            34.0            38.0           733.0   \n",
       "\n",
       "        comments_published_count  photos_published_count  \\\n",
       "0                            3.0                     6.0   \n",
       "1                            0.0                     0.0   \n",
       "2                            0.0                     0.0   \n",
       "3                            0.0                     0.0   \n",
       "4                            0.0                     0.0   \n",
       "...                          ...                     ...   \n",
       "197193                      76.0                    29.0   \n",
       "197194                      33.0                    26.0   \n",
       "197195                      10.0                    15.0   \n",
       "197196                     208.0                    32.0   \n",
       "197197                     752.0                    72.0   \n",
       "\n",
       "        videos_published_count  ...  namerus_embed_91  namerus_embed_92  \\\n",
       "0                          0.0  ...          0.008878          0.031000   \n",
       "1                          0.0  ...         -0.005316          0.014660   \n",
       "2                          0.0  ...          0.041034         -0.036070   \n",
       "3                          0.0  ...          0.026465          0.018288   \n",
       "4                          0.0  ...         -0.131194         -0.038963   \n",
       "...                        ...  ...               ...               ...   \n",
       "197193                     9.0  ...          0.022600          0.008194   \n",
       "197194                    12.0  ...          0.000000          0.000000   \n",
       "197195                     0.0  ...          0.010806         -0.080817   \n",
       "197196                     1.0  ...          0.036636          0.035344   \n",
       "197197                     5.0  ...          0.001029         -0.002571   \n",
       "\n",
       "        namerus_embed_93  namerus_embed_94  namerus_embed_95  \\\n",
       "0               0.005187         -0.005045          0.005048   \n",
       "1               0.002073         -0.014827          0.018512   \n",
       "2              -0.046307          0.038946         -0.037405   \n",
       "3               0.019070          0.003187         -0.068791   \n",
       "4               0.116103         -0.051850         -0.240972   \n",
       "...                  ...               ...               ...   \n",
       "197193          0.032195         -0.031180         -0.009302   \n",
       "197194          0.000000          0.000000          0.000000   \n",
       "197195         -0.046403          0.034549          0.042453   \n",
       "197196          0.002209          0.011807         -0.045729   \n",
       "197197          0.007608         -0.001352         -0.014961   \n",
       "\n",
       "        namerus_embed_96  namerus_embed_97  namerus_embed_98  \\\n",
       "0               0.014858         -0.024484         -0.034824   \n",
       "1               0.026589          0.019831          0.009437   \n",
       "2               0.111679          0.030324         -0.082830   \n",
       "3              -0.057635         -0.016498         -0.001572   \n",
       "4              -0.033925         -0.057512         -0.078474   \n",
       "...                  ...               ...               ...   \n",
       "197193          0.033963         -0.023104         -0.032739   \n",
       "197194          0.000000          0.000000          0.000000   \n",
       "197195         -0.030052         -0.032096          0.011569   \n",
       "197196         -0.020324         -0.039951         -0.052103   \n",
       "197197          0.001563         -0.035979         -0.035396   \n",
       "\n",
       "        namerus_embed_99  resolution  \n",
       "0              -0.003355           0  \n",
       "1               0.031225           0  \n",
       "2               0.101299           0  \n",
       "3              -0.057968           0  \n",
       "4              -0.083667           0  \n",
       "...                  ...         ...  \n",
       "197193         -0.015229           0  \n",
       "197194          0.000000           0  \n",
       "197195         -0.018326           0  \n",
       "197196          0.011317           1  \n",
       "197197         -0.042133           0  \n",
       "\n",
       "[197198 rows x 396 columns]"
      ],
      "text/html": [
       "<div>\n",
       "<style scoped>\n",
       "    .dataframe tbody tr th:only-of-type {\n",
       "        vertical-align: middle;\n",
       "    }\n",
       "\n",
       "    .dataframe tbody tr th {\n",
       "        vertical-align: top;\n",
       "    }\n",
       "\n",
       "    .dataframe thead th {\n",
       "        text-align: right;\n",
       "    }\n",
       "</style>\n",
       "<table border=\"1\" class=\"dataframe\">\n",
       "  <thead>\n",
       "    <tr style=\"text-align: right;\">\n",
       "      <th></th>\n",
       "      <th>brand_name</th>\n",
       "      <th>CommercialTypeName4</th>\n",
       "      <th>rating_1_count</th>\n",
       "      <th>rating_2_count</th>\n",
       "      <th>rating_3_count</th>\n",
       "      <th>rating_4_count</th>\n",
       "      <th>rating_5_count</th>\n",
       "      <th>comments_published_count</th>\n",
       "      <th>photos_published_count</th>\n",
       "      <th>videos_published_count</th>\n",
       "      <th>...</th>\n",
       "      <th>namerus_embed_91</th>\n",
       "      <th>namerus_embed_92</th>\n",
       "      <th>namerus_embed_93</th>\n",
       "      <th>namerus_embed_94</th>\n",
       "      <th>namerus_embed_95</th>\n",
       "      <th>namerus_embed_96</th>\n",
       "      <th>namerus_embed_97</th>\n",
       "      <th>namerus_embed_98</th>\n",
       "      <th>namerus_embed_99</th>\n",
       "      <th>resolution</th>\n",
       "    </tr>\n",
       "  </thead>\n",
       "  <tbody>\n",
       "    <tr>\n",
       "      <th>0</th>\n",
       "      <td>0.003009</td>\n",
       "      <td>0.001202</td>\n",
       "      <td>6.0</td>\n",
       "      <td>4.0</td>\n",
       "      <td>4.0</td>\n",
       "      <td>3.0</td>\n",
       "      <td>32.0</td>\n",
       "      <td>3.0</td>\n",
       "      <td>6.0</td>\n",
       "      <td>0.0</td>\n",
       "      <td>...</td>\n",
       "      <td>0.008878</td>\n",
       "      <td>0.031000</td>\n",
       "      <td>0.005187</td>\n",
       "      <td>-0.005045</td>\n",
       "      <td>0.005048</td>\n",
       "      <td>0.014858</td>\n",
       "      <td>-0.024484</td>\n",
       "      <td>-0.034824</td>\n",
       "      <td>-0.003355</td>\n",
       "      <td>0</td>\n",
       "    </tr>\n",
       "    <tr>\n",
       "      <th>1</th>\n",
       "      <td>0.001068</td>\n",
       "      <td>0.001003</td>\n",
       "      <td>0.0</td>\n",
       "      <td>0.0</td>\n",
       "      <td>0.0</td>\n",
       "      <td>0.0</td>\n",
       "      <td>0.0</td>\n",
       "      <td>0.0</td>\n",
       "      <td>0.0</td>\n",
       "      <td>0.0</td>\n",
       "      <td>...</td>\n",
       "      <td>-0.005316</td>\n",
       "      <td>0.014660</td>\n",
       "      <td>0.002073</td>\n",
       "      <td>-0.014827</td>\n",
       "      <td>0.018512</td>\n",
       "      <td>0.026589</td>\n",
       "      <td>0.019831</td>\n",
       "      <td>0.009437</td>\n",
       "      <td>0.031225</td>\n",
       "      <td>0</td>\n",
       "    </tr>\n",
       "    <tr>\n",
       "      <th>2</th>\n",
       "      <td>0.090094</td>\n",
       "      <td>0.000164</td>\n",
       "      <td>0.0</td>\n",
       "      <td>0.0</td>\n",
       "      <td>1.0</td>\n",
       "      <td>0.0</td>\n",
       "      <td>1.0</td>\n",
       "      <td>0.0</td>\n",
       "      <td>0.0</td>\n",
       "      <td>0.0</td>\n",
       "      <td>...</td>\n",
       "      <td>0.041034</td>\n",
       "      <td>-0.036070</td>\n",
       "      <td>-0.046307</td>\n",
       "      <td>0.038946</td>\n",
       "      <td>-0.037405</td>\n",
       "      <td>0.111679</td>\n",
       "      <td>0.030324</td>\n",
       "      <td>-0.082830</td>\n",
       "      <td>0.101299</td>\n",
       "      <td>0</td>\n",
       "    </tr>\n",
       "    <tr>\n",
       "      <th>3</th>\n",
       "      <td>0.088466</td>\n",
       "      <td>0.000028</td>\n",
       "      <td>0.0</td>\n",
       "      <td>0.0</td>\n",
       "      <td>0.0</td>\n",
       "      <td>0.0</td>\n",
       "      <td>0.0</td>\n",
       "      <td>0.0</td>\n",
       "      <td>0.0</td>\n",
       "      <td>0.0</td>\n",
       "      <td>...</td>\n",
       "      <td>0.026465</td>\n",
       "      <td>0.018288</td>\n",
       "      <td>0.019070</td>\n",
       "      <td>0.003187</td>\n",
       "      <td>-0.068791</td>\n",
       "      <td>-0.057635</td>\n",
       "      <td>-0.016498</td>\n",
       "      <td>-0.001572</td>\n",
       "      <td>-0.057968</td>\n",
       "      <td>0</td>\n",
       "    </tr>\n",
       "    <tr>\n",
       "      <th>4</th>\n",
       "      <td>0.088466</td>\n",
       "      <td>0.000028</td>\n",
       "      <td>1.0</td>\n",
       "      <td>0.0</td>\n",
       "      <td>0.0</td>\n",
       "      <td>0.0</td>\n",
       "      <td>0.0</td>\n",
       "      <td>0.0</td>\n",
       "      <td>0.0</td>\n",
       "      <td>0.0</td>\n",
       "      <td>...</td>\n",
       "      <td>-0.131194</td>\n",
       "      <td>-0.038963</td>\n",
       "      <td>0.116103</td>\n",
       "      <td>-0.051850</td>\n",
       "      <td>-0.240972</td>\n",
       "      <td>-0.033925</td>\n",
       "      <td>-0.057512</td>\n",
       "      <td>-0.078474</td>\n",
       "      <td>-0.083667</td>\n",
       "      <td>0</td>\n",
       "    </tr>\n",
       "    <tr>\n",
       "      <th>...</th>\n",
       "      <td>...</td>\n",
       "      <td>...</td>\n",
       "      <td>...</td>\n",
       "      <td>...</td>\n",
       "      <td>...</td>\n",
       "      <td>...</td>\n",
       "      <td>...</td>\n",
       "      <td>...</td>\n",
       "      <td>...</td>\n",
       "      <td>...</td>\n",
       "      <td>...</td>\n",
       "      <td>...</td>\n",
       "      <td>...</td>\n",
       "      <td>...</td>\n",
       "      <td>...</td>\n",
       "      <td>...</td>\n",
       "      <td>...</td>\n",
       "      <td>...</td>\n",
       "      <td>...</td>\n",
       "      <td>...</td>\n",
       "      <td>...</td>\n",
       "    </tr>\n",
       "    <tr>\n",
       "      <th>197193</th>\n",
       "      <td>0.019910</td>\n",
       "      <td>0.573606</td>\n",
       "      <td>4.0</td>\n",
       "      <td>1.0</td>\n",
       "      <td>0.0</td>\n",
       "      <td>6.0</td>\n",
       "      <td>60.0</td>\n",
       "      <td>76.0</td>\n",
       "      <td>29.0</td>\n",
       "      <td>9.0</td>\n",
       "      <td>...</td>\n",
       "      <td>0.022600</td>\n",
       "      <td>0.008194</td>\n",
       "      <td>0.032195</td>\n",
       "      <td>-0.031180</td>\n",
       "      <td>-0.009302</td>\n",
       "      <td>0.033963</td>\n",
       "      <td>-0.023104</td>\n",
       "      <td>-0.032739</td>\n",
       "      <td>-0.015229</td>\n",
       "      <td>0</td>\n",
       "    </tr>\n",
       "    <tr>\n",
       "      <th>197194</th>\n",
       "      <td>0.059817</td>\n",
       "      <td>0.122101</td>\n",
       "      <td>0.0</td>\n",
       "      <td>0.0</td>\n",
       "      <td>0.0</td>\n",
       "      <td>1.0</td>\n",
       "      <td>31.0</td>\n",
       "      <td>33.0</td>\n",
       "      <td>26.0</td>\n",
       "      <td>12.0</td>\n",
       "      <td>...</td>\n",
       "      <td>0.000000</td>\n",
       "      <td>0.000000</td>\n",
       "      <td>0.000000</td>\n",
       "      <td>0.000000</td>\n",
       "      <td>0.000000</td>\n",
       "      <td>0.000000</td>\n",
       "      <td>0.000000</td>\n",
       "      <td>0.000000</td>\n",
       "      <td>0.000000</td>\n",
       "      <td>0</td>\n",
       "    </tr>\n",
       "    <tr>\n",
       "      <th>197195</th>\n",
       "      <td>0.250919</td>\n",
       "      <td>0.122101</td>\n",
       "      <td>1.0</td>\n",
       "      <td>1.0</td>\n",
       "      <td>1.0</td>\n",
       "      <td>0.0</td>\n",
       "      <td>27.0</td>\n",
       "      <td>10.0</td>\n",
       "      <td>15.0</td>\n",
       "      <td>0.0</td>\n",
       "      <td>...</td>\n",
       "      <td>0.010806</td>\n",
       "      <td>-0.080817</td>\n",
       "      <td>-0.046403</td>\n",
       "      <td>0.034549</td>\n",
       "      <td>0.042453</td>\n",
       "      <td>-0.030052</td>\n",
       "      <td>-0.032096</td>\n",
       "      <td>0.011569</td>\n",
       "      <td>-0.018326</td>\n",
       "      <td>0</td>\n",
       "    </tr>\n",
       "    <tr>\n",
       "      <th>197196</th>\n",
       "      <td>0.108964</td>\n",
       "      <td>0.467145</td>\n",
       "      <td>55.0</td>\n",
       "      <td>30.0</td>\n",
       "      <td>27.0</td>\n",
       "      <td>21.0</td>\n",
       "      <td>72.0</td>\n",
       "      <td>208.0</td>\n",
       "      <td>32.0</td>\n",
       "      <td>1.0</td>\n",
       "      <td>...</td>\n",
       "      <td>0.036636</td>\n",
       "      <td>0.035344</td>\n",
       "      <td>0.002209</td>\n",
       "      <td>0.011807</td>\n",
       "      <td>-0.045729</td>\n",
       "      <td>-0.020324</td>\n",
       "      <td>-0.039951</td>\n",
       "      <td>-0.052103</td>\n",
       "      <td>0.011317</td>\n",
       "      <td>1</td>\n",
       "    </tr>\n",
       "    <tr>\n",
       "      <th>197197</th>\n",
       "      <td>0.014591</td>\n",
       "      <td>0.016533</td>\n",
       "      <td>45.0</td>\n",
       "      <td>16.0</td>\n",
       "      <td>34.0</td>\n",
       "      <td>38.0</td>\n",
       "      <td>733.0</td>\n",
       "      <td>752.0</td>\n",
       "      <td>72.0</td>\n",
       "      <td>5.0</td>\n",
       "      <td>...</td>\n",
       "      <td>0.001029</td>\n",
       "      <td>-0.002571</td>\n",
       "      <td>0.007608</td>\n",
       "      <td>-0.001352</td>\n",
       "      <td>-0.014961</td>\n",
       "      <td>0.001563</td>\n",
       "      <td>-0.035979</td>\n",
       "      <td>-0.035396</td>\n",
       "      <td>-0.042133</td>\n",
       "      <td>0</td>\n",
       "    </tr>\n",
       "  </tbody>\n",
       "</table>\n",
       "<p>197198 rows × 396 columns</p>\n",
       "</div>"
      ]
     },
     "execution_count": 123,
     "metadata": {},
     "output_type": "execute_result"
    }
   ],
   "execution_count": 123
  },
  {
   "metadata": {},
   "cell_type": "code",
   "outputs": [],
   "execution_count": null,
   "source": "",
   "id": "9395fe19768ff71e"
  },
  {
   "metadata": {
    "ExecuteTime": {
     "end_time": "2025-08-22T10:43:15.058591Z",
     "start_time": "2025-08-22T10:43:15.055563Z"
    }
   },
   "cell_type": "code",
   "source": "",
   "id": "1c095ff15389dd76",
   "outputs": [],
   "execution_count": null
  },
  {
   "metadata": {
    "ExecuteTime": {
     "end_time": "2025-08-22T10:43:15.540459Z",
     "start_time": "2025-08-22T10:43:15.536731Z"
    }
   },
   "cell_type": "code",
   "source": "",
   "id": "d4077d4db8e8393e",
   "outputs": [],
   "execution_count": null
  },
  {
   "metadata": {
    "ExecuteTime": {
     "end_time": "2025-08-22T11:43:57.097605Z",
     "start_time": "2025-08-22T11:43:55.319631Z"
    }
   },
   "cell_type": "code",
   "source": [
    "X = conecting_data_raw.drop('resolution', axis=1)\n",
    "y = conecting_data_raw['resolution']  # целевая колонка\n",
    "\n",
    "\n",
    "# train (70%), test (15%), val (15%)\n",
    "X_train, X_temp, y_train, y_temp = train_test_split(X, y, test_size=0.28, random_state=42, stratify=y)\n",
    "X_val, X_test, y_val, y_test = train_test_split(X_temp, y_temp, test_size=0.5, random_state=42, stratify=y_temp)\n",
    "\n",
    "\n",
    "\n",
    "XGB_model5 = XGBClassifier(\n",
    "    n_estimators=120,\n",
    "    max_depth=10,  # Уменьшаем глубину   \n",
    "    scale_pos_weight=(len(y_train[y_train==0]) / len(y_train[y_train==1])*0.3),\n",
    "    eval_metric='logloss',\n",
    "    use_label_encoder=False,\n",
    "    \n",
    "    \n",
    "    \n",
    ")\n",
    "\n"
   ],
   "id": "c6425b9c01d0f3e0",
   "outputs": [],
   "execution_count": 138
  },
  {
   "metadata": {
    "ExecuteTime": {
     "end_time": "2025-08-22T11:29:33.300747Z",
     "start_time": "2025-08-22T11:29:33.298799Z"
    }
   },
   "cell_type": "code",
   "source": "",
   "id": "72f38be478008589",
   "outputs": [],
   "execution_count": null
  },
  {
   "metadata": {
    "ExecuteTime": {
     "end_time": "2025-08-22T11:44:01.754659Z",
     "start_time": "2025-08-22T11:44:01.299261Z"
    }
   },
   "cell_type": "code",
   "source": [
    "X_full = pd.concat([X_train, X_val], axis=0)\n",
    "y_full = pd.concat([y_train, y_val], axis=0)\n"
   ],
   "id": "63690f5422feb42f",
   "outputs": [],
   "execution_count": 139
  },
  {
   "metadata": {
    "ExecuteTime": {
     "end_time": "2025-08-22T11:32:52.837749Z",
     "start_time": "2025-08-22T11:32:52.114068Z"
    }
   },
   "cell_type": "code",
   "source": [
    "X_full = X_full.reset_index(drop=True)\n",
    "y_full = y_full.reset_index(drop=True)\n"
   ],
   "id": "c1864fb7ef43fdab",
   "outputs": [],
   "execution_count": 128
  },
  {
   "metadata": {
    "ExecuteTime": {
     "end_time": "2025-08-22T11:32:41.896929Z",
     "start_time": "2025-08-22T11:32:41.890029Z"
    }
   },
   "cell_type": "code",
   "source": "",
   "id": "9e5295c5fd1025d1",
   "outputs": [],
   "execution_count": null
  },
  {
   "metadata": {
    "ExecuteTime": {
     "end_time": "2025-08-22T11:32:31.001079Z",
     "start_time": "2025-08-22T11:32:30.988771Z"
    }
   },
   "cell_type": "code",
   "source": "",
   "id": "234d274859f0dd4c",
   "outputs": [
    {
     "data": {
      "text/plain": [
       "123997    0\n",
       "175303    0\n",
       "54596     0\n",
       "106861    1\n",
       "180126    0\n",
       "         ..\n",
       "101189    0\n",
       "95937     0\n",
       "76714     1\n",
       "50952     0\n",
       "51888     0\n",
       "Name: resolution, Length: 169590, dtype: int64"
      ]
     },
     "execution_count": 127,
     "metadata": {},
     "output_type": "execute_result"
    }
   ],
   "execution_count": 127
  },
  {
   "metadata": {
    "ExecuteTime": {
     "end_time": "2025-08-22T11:44:04.632551Z",
     "start_time": "2025-08-22T11:44:04.511734Z"
    }
   },
   "cell_type": "code",
   "source": "XGB_model5.fit(X_full, y_full)",
   "id": "caa6315a7122900f",
   "outputs": [
    {
     "ename": "AttributeError",
     "evalue": "'DataFrame' object has no attribute 'dtype'",
     "output_type": "error",
     "traceback": [
      "\u001B[0;31m---------------------------------------------------------------------------\u001B[0m",
      "\u001B[0;31mAttributeError\u001B[0m                            Traceback (most recent call last)",
      "\u001B[0;32m/var/folders/x1/d4wrwp8x1cdgx44hq2rdb2xr0000gn/T/ipykernel_1500/442058017.py\u001B[0m in \u001B[0;36m?\u001B[0;34m()\u001B[0m\n\u001B[0;32m----> 1\u001B[0;31m \u001B[0mXGB_model5\u001B[0m\u001B[0;34m.\u001B[0m\u001B[0mfit\u001B[0m\u001B[0;34m(\u001B[0m\u001B[0mX_full\u001B[0m\u001B[0;34m,\u001B[0m \u001B[0my_full\u001B[0m\u001B[0;34m)\u001B[0m\u001B[0;34m\u001B[0m\u001B[0;34m\u001B[0m\u001B[0m\n\u001B[0m",
      "\u001B[0;32m~/PycharmProjects/scientificProject/.venv/lib/python3.12/site-packages/xgboost/core.py\u001B[0m in \u001B[0;36m?\u001B[0;34m(*args, **kwargs)\u001B[0m\n\u001B[1;32m    725\u001B[0m                     \u001B[0;32mraise\u001B[0m \u001B[0mTypeError\u001B[0m\u001B[0;34m(\u001B[0m\u001B[0mmsg\u001B[0m\u001B[0;34m)\u001B[0m\u001B[0;34m\u001B[0m\u001B[0;34m\u001B[0m\u001B[0m\n\u001B[1;32m    726\u001B[0m                 \u001B[0mwarnings\u001B[0m\u001B[0;34m.\u001B[0m\u001B[0mwarn\u001B[0m\u001B[0;34m(\u001B[0m\u001B[0mmsg\u001B[0m\u001B[0;34m,\u001B[0m \u001B[0mFutureWarning\u001B[0m\u001B[0;34m)\u001B[0m\u001B[0;34m\u001B[0m\u001B[0;34m\u001B[0m\u001B[0m\n\u001B[1;32m    727\u001B[0m             \u001B[0;32mfor\u001B[0m \u001B[0mk\u001B[0m\u001B[0;34m,\u001B[0m \u001B[0marg\u001B[0m \u001B[0;32min\u001B[0m \u001B[0mzip\u001B[0m\u001B[0;34m(\u001B[0m\u001B[0msig\u001B[0m\u001B[0;34m.\u001B[0m\u001B[0mparameters\u001B[0m\u001B[0;34m,\u001B[0m \u001B[0margs\u001B[0m\u001B[0;34m)\u001B[0m\u001B[0;34m:\u001B[0m\u001B[0;34m\u001B[0m\u001B[0;34m\u001B[0m\u001B[0m\n\u001B[1;32m    728\u001B[0m                 \u001B[0mkwargs\u001B[0m\u001B[0;34m[\u001B[0m\u001B[0mk\u001B[0m\u001B[0;34m]\u001B[0m \u001B[0;34m=\u001B[0m \u001B[0marg\u001B[0m\u001B[0;34m\u001B[0m\u001B[0;34m\u001B[0m\u001B[0m\n\u001B[0;32m--> 729\u001B[0;31m             \u001B[0;32mreturn\u001B[0m \u001B[0mfunc\u001B[0m\u001B[0;34m(\u001B[0m\u001B[0;34m**\u001B[0m\u001B[0mkwargs\u001B[0m\u001B[0;34m)\u001B[0m\u001B[0;34m\u001B[0m\u001B[0;34m\u001B[0m\u001B[0m\n\u001B[0m",
      "\u001B[0;32m~/PycharmProjects/scientificProject/.venv/lib/python3.12/site-packages/xgboost/sklearn.py\u001B[0m in \u001B[0;36m?\u001B[0;34m(self, X, y, sample_weight, base_margin, eval_set, verbose, xgb_model, sample_weight_eval_set, base_margin_eval_set, feature_weights)\u001B[0m\n\u001B[1;32m   1660\u001B[0m \u001B[0;34m\u001B[0m\u001B[0m\n\u001B[1;32m   1661\u001B[0m             model, metric, params, feature_weights = self._configure_fit(\n\u001B[1;32m   1662\u001B[0m                 \u001B[0mxgb_model\u001B[0m\u001B[0;34m,\u001B[0m \u001B[0mparams\u001B[0m\u001B[0;34m,\u001B[0m \u001B[0mfeature_weights\u001B[0m\u001B[0;34m\u001B[0m\u001B[0;34m\u001B[0m\u001B[0m\n\u001B[1;32m   1663\u001B[0m             \u001B[0;34m)\u001B[0m\u001B[0;34m\u001B[0m\u001B[0;34m\u001B[0m\u001B[0m\n\u001B[0;32m-> 1664\u001B[0;31m             train_dmatrix, evals = _wrap_evaluation_matrices(\n\u001B[0m\u001B[1;32m   1665\u001B[0m                 \u001B[0mmissing\u001B[0m\u001B[0;34m=\u001B[0m\u001B[0mself\u001B[0m\u001B[0;34m.\u001B[0m\u001B[0mmissing\u001B[0m\u001B[0;34m,\u001B[0m\u001B[0;34m\u001B[0m\u001B[0;34m\u001B[0m\u001B[0m\n\u001B[1;32m   1666\u001B[0m                 \u001B[0mX\u001B[0m\u001B[0;34m=\u001B[0m\u001B[0mX\u001B[0m\u001B[0;34m,\u001B[0m\u001B[0;34m\u001B[0m\u001B[0;34m\u001B[0m\u001B[0m\n\u001B[1;32m   1667\u001B[0m                 \u001B[0my\u001B[0m\u001B[0;34m=\u001B[0m\u001B[0my\u001B[0m\u001B[0;34m,\u001B[0m\u001B[0;34m\u001B[0m\u001B[0;34m\u001B[0m\u001B[0m\n",
      "\u001B[0;32m~/PycharmProjects/scientificProject/.venv/lib/python3.12/site-packages/xgboost/sklearn.py\u001B[0m in \u001B[0;36m?\u001B[0;34m(missing, X, y, group, qid, sample_weight, base_margin, feature_weights, eval_set, sample_weight_eval_set, base_margin_eval_set, eval_group, eval_qid, create_dmatrix, enable_categorical, feature_types)\u001B[0m\n\u001B[1;32m    624\u001B[0m     \u001B[0mfeature_types\u001B[0m\u001B[0;34m:\u001B[0m \u001B[0mOptional\u001B[0m\u001B[0;34m[\u001B[0m\u001B[0mFeatureTypes\u001B[0m\u001B[0;34m]\u001B[0m\u001B[0;34m,\u001B[0m\u001B[0;34m\u001B[0m\u001B[0;34m\u001B[0m\u001B[0m\n\u001B[1;32m    625\u001B[0m \u001B[0;34m)\u001B[0m \u001B[0;34m->\u001B[0m \u001B[0mTuple\u001B[0m\u001B[0;34m[\u001B[0m\u001B[0mAny\u001B[0m\u001B[0;34m,\u001B[0m \u001B[0mList\u001B[0m\u001B[0;34m[\u001B[0m\u001B[0mTuple\u001B[0m\u001B[0;34m[\u001B[0m\u001B[0mAny\u001B[0m\u001B[0;34m,\u001B[0m \u001B[0mstr\u001B[0m\u001B[0;34m]\u001B[0m\u001B[0;34m]\u001B[0m\u001B[0;34m]\u001B[0m\u001B[0;34m:\u001B[0m\u001B[0;34m\u001B[0m\u001B[0;34m\u001B[0m\u001B[0m\n\u001B[1;32m    626\u001B[0m     \"\"\"Convert array_like evaluation matrices into DMatrix.  Perform validation on the\n\u001B[1;32m    627\u001B[0m     way.\"\"\"\n\u001B[0;32m--> 628\u001B[0;31m     train_dmatrix = create_dmatrix(\n\u001B[0m\u001B[1;32m    629\u001B[0m         \u001B[0mdata\u001B[0m\u001B[0;34m=\u001B[0m\u001B[0mX\u001B[0m\u001B[0;34m,\u001B[0m\u001B[0;34m\u001B[0m\u001B[0;34m\u001B[0m\u001B[0m\n\u001B[1;32m    630\u001B[0m         \u001B[0mlabel\u001B[0m\u001B[0;34m=\u001B[0m\u001B[0my\u001B[0m\u001B[0;34m,\u001B[0m\u001B[0;34m\u001B[0m\u001B[0;34m\u001B[0m\u001B[0m\n\u001B[1;32m    631\u001B[0m         \u001B[0mgroup\u001B[0m\u001B[0;34m=\u001B[0m\u001B[0mgroup\u001B[0m\u001B[0;34m,\u001B[0m\u001B[0;34m\u001B[0m\u001B[0;34m\u001B[0m\u001B[0m\n",
      "\u001B[0;32m~/PycharmProjects/scientificProject/.venv/lib/python3.12/site-packages/xgboost/sklearn.py\u001B[0m in \u001B[0;36m?\u001B[0;34m(self, ref, **kwargs)\u001B[0m\n\u001B[1;32m   1136\u001B[0m             \u001B[0;32mtry\u001B[0m\u001B[0;34m:\u001B[0m\u001B[0;34m\u001B[0m\u001B[0;34m\u001B[0m\u001B[0m\n\u001B[1;32m   1137\u001B[0m                 return QuantileDMatrix(\n\u001B[1;32m   1138\u001B[0m                     \u001B[0;34m**\u001B[0m\u001B[0mkwargs\u001B[0m\u001B[0;34m,\u001B[0m \u001B[0mref\u001B[0m\u001B[0;34m=\u001B[0m\u001B[0mref\u001B[0m\u001B[0;34m,\u001B[0m \u001B[0mnthread\u001B[0m\u001B[0;34m=\u001B[0m\u001B[0mself\u001B[0m\u001B[0;34m.\u001B[0m\u001B[0mn_jobs\u001B[0m\u001B[0;34m,\u001B[0m \u001B[0mmax_bin\u001B[0m\u001B[0;34m=\u001B[0m\u001B[0mself\u001B[0m\u001B[0;34m.\u001B[0m\u001B[0mmax_bin\u001B[0m\u001B[0;34m\u001B[0m\u001B[0;34m\u001B[0m\u001B[0m\n\u001B[1;32m   1139\u001B[0m                 \u001B[0;34m)\u001B[0m\u001B[0;34m\u001B[0m\u001B[0;34m\u001B[0m\u001B[0m\n\u001B[0;32m-> 1140\u001B[0;31m             \u001B[0;32mexcept\u001B[0m \u001B[0mTypeError\u001B[0m\u001B[0;34m:\u001B[0m  \u001B[0;31m# `QuantileDMatrix` supports lesser types than DMatrix\u001B[0m\u001B[0;34m\u001B[0m\u001B[0;34m\u001B[0m\u001B[0m\n\u001B[0m\u001B[1;32m   1141\u001B[0m                 \u001B[0;32mpass\u001B[0m\u001B[0;34m\u001B[0m\u001B[0;34m\u001B[0m\u001B[0m\n\u001B[1;32m   1142\u001B[0m         \u001B[0;32mreturn\u001B[0m \u001B[0mDMatrix\u001B[0m\u001B[0;34m(\u001B[0m\u001B[0;34m**\u001B[0m\u001B[0mkwargs\u001B[0m\u001B[0;34m,\u001B[0m \u001B[0mnthread\u001B[0m\u001B[0;34m=\u001B[0m\u001B[0mself\u001B[0m\u001B[0;34m.\u001B[0m\u001B[0mn_jobs\u001B[0m\u001B[0;34m)\u001B[0m\u001B[0;34m\u001B[0m\u001B[0;34m\u001B[0m\u001B[0m\n",
      "\u001B[0;32m~/PycharmProjects/scientificProject/.venv/lib/python3.12/site-packages/xgboost/core.py\u001B[0m in \u001B[0;36m?\u001B[0;34m(*args, **kwargs)\u001B[0m\n\u001B[1;32m    725\u001B[0m                     \u001B[0;32mraise\u001B[0m \u001B[0mTypeError\u001B[0m\u001B[0;34m(\u001B[0m\u001B[0mmsg\u001B[0m\u001B[0;34m)\u001B[0m\u001B[0;34m\u001B[0m\u001B[0;34m\u001B[0m\u001B[0m\n\u001B[1;32m    726\u001B[0m                 \u001B[0mwarnings\u001B[0m\u001B[0;34m.\u001B[0m\u001B[0mwarn\u001B[0m\u001B[0;34m(\u001B[0m\u001B[0mmsg\u001B[0m\u001B[0;34m,\u001B[0m \u001B[0mFutureWarning\u001B[0m\u001B[0;34m)\u001B[0m\u001B[0;34m\u001B[0m\u001B[0;34m\u001B[0m\u001B[0m\n\u001B[1;32m    727\u001B[0m             \u001B[0;32mfor\u001B[0m \u001B[0mk\u001B[0m\u001B[0;34m,\u001B[0m \u001B[0marg\u001B[0m \u001B[0;32min\u001B[0m \u001B[0mzip\u001B[0m\u001B[0;34m(\u001B[0m\u001B[0msig\u001B[0m\u001B[0;34m.\u001B[0m\u001B[0mparameters\u001B[0m\u001B[0;34m,\u001B[0m \u001B[0margs\u001B[0m\u001B[0;34m)\u001B[0m\u001B[0;34m:\u001B[0m\u001B[0;34m\u001B[0m\u001B[0;34m\u001B[0m\u001B[0m\n\u001B[1;32m    728\u001B[0m                 \u001B[0mkwargs\u001B[0m\u001B[0;34m[\u001B[0m\u001B[0mk\u001B[0m\u001B[0;34m]\u001B[0m \u001B[0;34m=\u001B[0m \u001B[0marg\u001B[0m\u001B[0;34m\u001B[0m\u001B[0;34m\u001B[0m\u001B[0m\n\u001B[0;32m--> 729\u001B[0;31m             \u001B[0;32mreturn\u001B[0m \u001B[0mfunc\u001B[0m\u001B[0;34m(\u001B[0m\u001B[0;34m**\u001B[0m\u001B[0mkwargs\u001B[0m\u001B[0;34m)\u001B[0m\u001B[0;34m\u001B[0m\u001B[0;34m\u001B[0m\u001B[0m\n\u001B[0m",
      "\u001B[0;32m~/PycharmProjects/scientificProject/.venv/lib/python3.12/site-packages/xgboost/core.py\u001B[0m in \u001B[0;36m?\u001B[0;34m(self, data, label, weight, base_margin, missing, silent, feature_names, feature_types, nthread, max_bin, ref, group, qid, label_lower_bound, label_upper_bound, feature_weights, enable_categorical, max_quantile_batches, data_split_mode)\u001B[0m\n\u001B[1;32m   1610\u001B[0m                     \u001B[0;34m\"If data iterator is used as input, data like label should be \"\u001B[0m\u001B[0;34m\u001B[0m\u001B[0;34m\u001B[0m\u001B[0m\n\u001B[1;32m   1611\u001B[0m                     \u001B[0;34m\"specified as batch argument.\"\u001B[0m\u001B[0;34m\u001B[0m\u001B[0;34m\u001B[0m\u001B[0m\n\u001B[1;32m   1612\u001B[0m                 \u001B[0;34m)\u001B[0m\u001B[0;34m\u001B[0m\u001B[0;34m\u001B[0m\u001B[0m\n\u001B[1;32m   1613\u001B[0m \u001B[0;34m\u001B[0m\u001B[0m\n\u001B[0;32m-> 1614\u001B[0;31m         self._init(\n\u001B[0m\u001B[1;32m   1615\u001B[0m             \u001B[0mdata\u001B[0m\u001B[0;34m,\u001B[0m\u001B[0;34m\u001B[0m\u001B[0;34m\u001B[0m\u001B[0m\n\u001B[1;32m   1616\u001B[0m             \u001B[0mref\u001B[0m\u001B[0;34m=\u001B[0m\u001B[0mref\u001B[0m\u001B[0;34m,\u001B[0m\u001B[0;34m\u001B[0m\u001B[0;34m\u001B[0m\u001B[0m\n\u001B[1;32m   1617\u001B[0m             \u001B[0mlabel\u001B[0m\u001B[0;34m=\u001B[0m\u001B[0mlabel\u001B[0m\u001B[0;34m,\u001B[0m\u001B[0;34m\u001B[0m\u001B[0;34m\u001B[0m\u001B[0m\n",
      "\u001B[0;32m~/PycharmProjects/scientificProject/.venv/lib/python3.12/site-packages/xgboost/core.py\u001B[0m in \u001B[0;36m?\u001B[0;34m(self, data, ref, enable_categorical, max_quantile_blocks, **meta)\u001B[0m\n\u001B[1;32m   1674\u001B[0m             \u001B[0mnext_callback\u001B[0m\u001B[0;34m,\u001B[0m\u001B[0;34m\u001B[0m\u001B[0;34m\u001B[0m\u001B[0m\n\u001B[1;32m   1675\u001B[0m             \u001B[0mconfig\u001B[0m\u001B[0;34m,\u001B[0m\u001B[0;34m\u001B[0m\u001B[0;34m\u001B[0m\u001B[0m\n\u001B[1;32m   1676\u001B[0m             \u001B[0mctypes\u001B[0m\u001B[0;34m.\u001B[0m\u001B[0mbyref\u001B[0m\u001B[0;34m(\u001B[0m\u001B[0mhandle\u001B[0m\u001B[0;34m)\u001B[0m\u001B[0;34m,\u001B[0m\u001B[0;34m\u001B[0m\u001B[0;34m\u001B[0m\u001B[0m\n\u001B[1;32m   1677\u001B[0m         \u001B[0;34m)\u001B[0m\u001B[0;34m\u001B[0m\u001B[0;34m\u001B[0m\u001B[0m\n\u001B[0;32m-> 1678\u001B[0;31m         \u001B[0mit\u001B[0m\u001B[0;34m.\u001B[0m\u001B[0mreraise\u001B[0m\u001B[0;34m(\u001B[0m\u001B[0;34m)\u001B[0m\u001B[0;34m\u001B[0m\u001B[0;34m\u001B[0m\u001B[0m\n\u001B[0m\u001B[1;32m   1679\u001B[0m         \u001B[0;31m# delay check_call to throw intermediate exception first\u001B[0m\u001B[0;34m\u001B[0m\u001B[0;34m\u001B[0m\u001B[0m\n\u001B[1;32m   1680\u001B[0m         \u001B[0m_check_call\u001B[0m\u001B[0;34m(\u001B[0m\u001B[0mret\u001B[0m\u001B[0;34m)\u001B[0m\u001B[0;34m\u001B[0m\u001B[0;34m\u001B[0m\u001B[0m\n\u001B[1;32m   1681\u001B[0m         \u001B[0mself\u001B[0m\u001B[0;34m.\u001B[0m\u001B[0mhandle\u001B[0m \u001B[0;34m=\u001B[0m \u001B[0mhandle\u001B[0m\u001B[0;34m\u001B[0m\u001B[0;34m\u001B[0m\u001B[0m\n",
      "\u001B[0;32m~/PycharmProjects/scientificProject/.venv/lib/python3.12/site-packages/xgboost/core.py\u001B[0m in \u001B[0;36m?\u001B[0;34m(self)\u001B[0m\n\u001B[1;32m    568\u001B[0m             \u001B[0;31m#  pylint 2.7.0 believes `self._exception` can be None even with `assert\u001B[0m\u001B[0;34m\u001B[0m\u001B[0;34m\u001B[0m\u001B[0m\n\u001B[1;32m    569\u001B[0m             \u001B[0;31m#  isinstace`\u001B[0m\u001B[0;34m\u001B[0m\u001B[0;34m\u001B[0m\u001B[0m\n\u001B[1;32m    570\u001B[0m             \u001B[0mexc\u001B[0m \u001B[0;34m=\u001B[0m \u001B[0mself\u001B[0m\u001B[0;34m.\u001B[0m\u001B[0m_exception\u001B[0m\u001B[0;34m\u001B[0m\u001B[0;34m\u001B[0m\u001B[0m\n\u001B[1;32m    571\u001B[0m             \u001B[0mself\u001B[0m\u001B[0;34m.\u001B[0m\u001B[0m_exception\u001B[0m \u001B[0;34m=\u001B[0m \u001B[0;32mNone\u001B[0m\u001B[0;34m\u001B[0m\u001B[0;34m\u001B[0m\u001B[0m\n\u001B[0;32m--> 572\u001B[0;31m             \u001B[0;32mraise\u001B[0m \u001B[0mexc\u001B[0m  \u001B[0;31m# pylint: disable=raising-bad-type\u001B[0m\u001B[0;34m\u001B[0m\u001B[0;34m\u001B[0m\u001B[0m\n\u001B[0m",
      "\u001B[0;32m~/PycharmProjects/scientificProject/.venv/lib/python3.12/site-packages/xgboost/core.py\u001B[0m in \u001B[0;36m?\u001B[0;34m(self, fn, dft_ret)\u001B[0m\n\u001B[1;32m    558\u001B[0m             \u001B[0mtb\u001B[0m \u001B[0;34m=\u001B[0m \u001B[0msys\u001B[0m\u001B[0;34m.\u001B[0m\u001B[0mexc_info\u001B[0m\u001B[0;34m(\u001B[0m\u001B[0;34m)\u001B[0m\u001B[0;34m[\u001B[0m\u001B[0;36m2\u001B[0m\u001B[0;34m]\u001B[0m\u001B[0;34m\u001B[0m\u001B[0;34m\u001B[0m\u001B[0m\n\u001B[1;32m    559\u001B[0m             \u001B[0;31m# On dask, the worker is restarted and somehow the information is\u001B[0m\u001B[0;34m\u001B[0m\u001B[0;34m\u001B[0m\u001B[0m\n\u001B[1;32m    560\u001B[0m             \u001B[0;31m# lost.\u001B[0m\u001B[0;34m\u001B[0m\u001B[0;34m\u001B[0m\u001B[0m\n\u001B[1;32m    561\u001B[0m             \u001B[0mself\u001B[0m\u001B[0;34m.\u001B[0m\u001B[0m_exception\u001B[0m \u001B[0;34m=\u001B[0m \u001B[0me\u001B[0m\u001B[0;34m.\u001B[0m\u001B[0mwith_traceback\u001B[0m\u001B[0;34m(\u001B[0m\u001B[0mtb\u001B[0m\u001B[0;34m)\u001B[0m\u001B[0;34m\u001B[0m\u001B[0;34m\u001B[0m\u001B[0m\n\u001B[0;32m--> 562\u001B[0;31m         \u001B[0;32mreturn\u001B[0m \u001B[0mdft_ret\u001B[0m\u001B[0;34m\u001B[0m\u001B[0;34m\u001B[0m\u001B[0m\n\u001B[0m",
      "\u001B[0;32m~/PycharmProjects/scientificProject/.venv/lib/python3.12/site-packages/xgboost/core.py\u001B[0m in \u001B[0;36m?\u001B[0;34m()\u001B[0m\n\u001B[0;32m--> 640\u001B[0;31m         \u001B[0;32mreturn\u001B[0m \u001B[0mself\u001B[0m\u001B[0;34m.\u001B[0m\u001B[0m_handle_exception\u001B[0m\u001B[0;34m(\u001B[0m\u001B[0;32mlambda\u001B[0m\u001B[0;34m:\u001B[0m \u001B[0mint\u001B[0m\u001B[0;34m(\u001B[0m\u001B[0mself\u001B[0m\u001B[0;34m.\u001B[0m\u001B[0mnext\u001B[0m\u001B[0;34m(\u001B[0m\u001B[0minput_data\u001B[0m\u001B[0;34m)\u001B[0m\u001B[0;34m)\u001B[0m\u001B[0;34m,\u001B[0m \u001B[0;36m0\u001B[0m\u001B[0;34m)\u001B[0m\u001B[0;34m\u001B[0m\u001B[0;34m\u001B[0m\u001B[0m\n\u001B[0m",
      "\u001B[0;32m~/PycharmProjects/scientificProject/.venv/lib/python3.12/site-packages/xgboost/data.py\u001B[0m in \u001B[0;36m?\u001B[0;34m(self, input_data)\u001B[0m\n\u001B[1;32m   1650\u001B[0m     \u001B[0;32mdef\u001B[0m \u001B[0mnext\u001B[0m\u001B[0;34m(\u001B[0m\u001B[0mself\u001B[0m\u001B[0;34m,\u001B[0m \u001B[0minput_data\u001B[0m\u001B[0;34m:\u001B[0m \u001B[0mCallable\u001B[0m\u001B[0;34m)\u001B[0m \u001B[0;34m->\u001B[0m \u001B[0mbool\u001B[0m\u001B[0;34m:\u001B[0m\u001B[0;34m\u001B[0m\u001B[0;34m\u001B[0m\u001B[0m\n\u001B[1;32m   1651\u001B[0m         \u001B[0;32mif\u001B[0m \u001B[0mself\u001B[0m\u001B[0;34m.\u001B[0m\u001B[0mit\u001B[0m \u001B[0;34m==\u001B[0m \u001B[0;36m1\u001B[0m\u001B[0;34m:\u001B[0m\u001B[0;34m\u001B[0m\u001B[0;34m\u001B[0m\u001B[0m\n\u001B[1;32m   1652\u001B[0m             \u001B[0;32mreturn\u001B[0m \u001B[0;32mFalse\u001B[0m\u001B[0;34m\u001B[0m\u001B[0;34m\u001B[0m\u001B[0m\n\u001B[1;32m   1653\u001B[0m         \u001B[0mself\u001B[0m\u001B[0;34m.\u001B[0m\u001B[0mit\u001B[0m \u001B[0;34m+=\u001B[0m \u001B[0;36m1\u001B[0m\u001B[0;34m\u001B[0m\u001B[0;34m\u001B[0m\u001B[0m\n\u001B[0;32m-> 1654\u001B[0;31m         \u001B[0minput_data\u001B[0m\u001B[0;34m(\u001B[0m\u001B[0;34m**\u001B[0m\u001B[0mself\u001B[0m\u001B[0;34m.\u001B[0m\u001B[0mkwargs\u001B[0m\u001B[0;34m)\u001B[0m\u001B[0;34m\u001B[0m\u001B[0;34m\u001B[0m\u001B[0m\n\u001B[0m\u001B[1;32m   1655\u001B[0m         \u001B[0;32mreturn\u001B[0m \u001B[0;32mTrue\u001B[0m\u001B[0;34m\u001B[0m\u001B[0;34m\u001B[0m\u001B[0m\n",
      "\u001B[0;32m~/PycharmProjects/scientificProject/.venv/lib/python3.12/site-packages/xgboost/core.py\u001B[0m in \u001B[0;36m?\u001B[0;34m(*args, **kwargs)\u001B[0m\n\u001B[1;32m    725\u001B[0m                     \u001B[0;32mraise\u001B[0m \u001B[0mTypeError\u001B[0m\u001B[0;34m(\u001B[0m\u001B[0mmsg\u001B[0m\u001B[0;34m)\u001B[0m\u001B[0;34m\u001B[0m\u001B[0;34m\u001B[0m\u001B[0m\n\u001B[1;32m    726\u001B[0m                 \u001B[0mwarnings\u001B[0m\u001B[0;34m.\u001B[0m\u001B[0mwarn\u001B[0m\u001B[0;34m(\u001B[0m\u001B[0mmsg\u001B[0m\u001B[0;34m,\u001B[0m \u001B[0mFutureWarning\u001B[0m\u001B[0;34m)\u001B[0m\u001B[0;34m\u001B[0m\u001B[0;34m\u001B[0m\u001B[0m\n\u001B[1;32m    727\u001B[0m             \u001B[0;32mfor\u001B[0m \u001B[0mk\u001B[0m\u001B[0;34m,\u001B[0m \u001B[0marg\u001B[0m \u001B[0;32min\u001B[0m \u001B[0mzip\u001B[0m\u001B[0;34m(\u001B[0m\u001B[0msig\u001B[0m\u001B[0;34m.\u001B[0m\u001B[0mparameters\u001B[0m\u001B[0;34m,\u001B[0m \u001B[0margs\u001B[0m\u001B[0;34m)\u001B[0m\u001B[0;34m:\u001B[0m\u001B[0;34m\u001B[0m\u001B[0;34m\u001B[0m\u001B[0m\n\u001B[1;32m    728\u001B[0m                 \u001B[0mkwargs\u001B[0m\u001B[0;34m[\u001B[0m\u001B[0mk\u001B[0m\u001B[0;34m]\u001B[0m \u001B[0;34m=\u001B[0m \u001B[0marg\u001B[0m\u001B[0;34m\u001B[0m\u001B[0;34m\u001B[0m\u001B[0m\n\u001B[0;32m--> 729\u001B[0;31m             \u001B[0;32mreturn\u001B[0m \u001B[0mfunc\u001B[0m\u001B[0;34m(\u001B[0m\u001B[0;34m**\u001B[0m\u001B[0mkwargs\u001B[0m\u001B[0;34m)\u001B[0m\u001B[0;34m\u001B[0m\u001B[0;34m\u001B[0m\u001B[0m\n\u001B[0m",
      "\u001B[0;32m~/PycharmProjects/scientificProject/.venv/lib/python3.12/site-packages/xgboost/core.py\u001B[0m in \u001B[0;36m?\u001B[0;34m(data, feature_names, feature_types, **kwargs)\u001B[0m\n\u001B[1;32m    616\u001B[0m                 \u001B[0;32mand\u001B[0m \u001B[0mref\u001B[0m \u001B[0;32mis\u001B[0m \u001B[0mself\u001B[0m\u001B[0;34m.\u001B[0m\u001B[0m_data_ref\u001B[0m\u001B[0;34m\u001B[0m\u001B[0;34m\u001B[0m\u001B[0m\n\u001B[1;32m    617\u001B[0m             \u001B[0;34m)\u001B[0m\u001B[0;34m:\u001B[0m\u001B[0;34m\u001B[0m\u001B[0;34m\u001B[0m\u001B[0m\n\u001B[1;32m    618\u001B[0m                 \u001B[0mnew\u001B[0m\u001B[0;34m,\u001B[0m \u001B[0mcat_codes\u001B[0m\u001B[0;34m,\u001B[0m \u001B[0mfeature_names\u001B[0m\u001B[0;34m,\u001B[0m \u001B[0mfeature_types\u001B[0m \u001B[0;34m=\u001B[0m \u001B[0mself\u001B[0m\u001B[0;34m.\u001B[0m\u001B[0m_temporary_data\u001B[0m\u001B[0;34m\u001B[0m\u001B[0;34m\u001B[0m\u001B[0m\n\u001B[1;32m    619\u001B[0m             \u001B[0;32melse\u001B[0m\u001B[0;34m:\u001B[0m\u001B[0;34m\u001B[0m\u001B[0;34m\u001B[0m\u001B[0m\n\u001B[0;32m--> 620\u001B[0;31m                 new, cat_codes, feature_names, feature_types = _proxy_transform(\n\u001B[0m\u001B[1;32m    621\u001B[0m                     \u001B[0mdata\u001B[0m\u001B[0;34m,\u001B[0m\u001B[0;34m\u001B[0m\u001B[0;34m\u001B[0m\u001B[0m\n\u001B[1;32m    622\u001B[0m                     \u001B[0mfeature_names\u001B[0m\u001B[0;34m,\u001B[0m\u001B[0;34m\u001B[0m\u001B[0;34m\u001B[0m\u001B[0m\n\u001B[1;32m    623\u001B[0m                     \u001B[0mfeature_types\u001B[0m\u001B[0;34m,\u001B[0m\u001B[0;34m\u001B[0m\u001B[0;34m\u001B[0m\u001B[0m\n",
      "\u001B[0;32m~/PycharmProjects/scientificProject/.venv/lib/python3.12/site-packages/xgboost/data.py\u001B[0m in \u001B[0;36m?\u001B[0;34m(data, feature_names, feature_types, enable_categorical)\u001B[0m\n\u001B[1;32m   1703\u001B[0m             \u001B[0mdata\u001B[0m\u001B[0;34m,\u001B[0m \u001B[0menable_categorical\u001B[0m\u001B[0;34m,\u001B[0m \u001B[0mfeature_names\u001B[0m\u001B[0;34m,\u001B[0m \u001B[0mfeature_types\u001B[0m\u001B[0;34m\u001B[0m\u001B[0;34m\u001B[0m\u001B[0m\n\u001B[1;32m   1704\u001B[0m         \u001B[0;34m)\u001B[0m\u001B[0;34m\u001B[0m\u001B[0;34m\u001B[0m\u001B[0m\n\u001B[1;32m   1705\u001B[0m         \u001B[0;32mreturn\u001B[0m \u001B[0mdf_pa\u001B[0m\u001B[0;34m,\u001B[0m \u001B[0;32mNone\u001B[0m\u001B[0;34m,\u001B[0m \u001B[0mfeature_names\u001B[0m\u001B[0;34m,\u001B[0m \u001B[0mfeature_types\u001B[0m\u001B[0;34m\u001B[0m\u001B[0;34m\u001B[0m\u001B[0m\n\u001B[1;32m   1706\u001B[0m     \u001B[0;32mif\u001B[0m \u001B[0m_is_pandas_df\u001B[0m\u001B[0;34m(\u001B[0m\u001B[0mdata\u001B[0m\u001B[0;34m)\u001B[0m\u001B[0;34m:\u001B[0m\u001B[0;34m\u001B[0m\u001B[0;34m\u001B[0m\u001B[0m\n\u001B[0;32m-> 1707\u001B[0;31m         df, feature_names, feature_types = _transform_pandas_df(\n\u001B[0m\u001B[1;32m   1708\u001B[0m             \u001B[0mdata\u001B[0m\u001B[0;34m,\u001B[0m \u001B[0menable_categorical\u001B[0m\u001B[0;34m,\u001B[0m \u001B[0mfeature_names\u001B[0m\u001B[0;34m,\u001B[0m \u001B[0mfeature_types\u001B[0m\u001B[0;34m\u001B[0m\u001B[0;34m\u001B[0m\u001B[0m\n\u001B[1;32m   1709\u001B[0m         \u001B[0;34m)\u001B[0m\u001B[0;34m\u001B[0m\u001B[0;34m\u001B[0m\u001B[0m\n\u001B[1;32m   1710\u001B[0m         \u001B[0;32mreturn\u001B[0m \u001B[0mdf\u001B[0m\u001B[0;34m,\u001B[0m \u001B[0;32mNone\u001B[0m\u001B[0;34m,\u001B[0m \u001B[0mfeature_names\u001B[0m\u001B[0;34m,\u001B[0m \u001B[0mfeature_types\u001B[0m\u001B[0;34m\u001B[0m\u001B[0;34m\u001B[0m\u001B[0m\n",
      "\u001B[0;32m~/PycharmProjects/scientificProject/.venv/lib/python3.12/site-packages/xgboost/data.py\u001B[0m in \u001B[0;36m?\u001B[0;34m(data, enable_categorical, feature_names, feature_types, meta)\u001B[0m\n\u001B[1;32m    640\u001B[0m     feature_names, feature_types = pandas_feature_info(\n\u001B[1;32m    641\u001B[0m         \u001B[0mdata\u001B[0m\u001B[0;34m,\u001B[0m \u001B[0mmeta\u001B[0m\u001B[0;34m,\u001B[0m \u001B[0mfeature_names\u001B[0m\u001B[0;34m,\u001B[0m \u001B[0mfeature_types\u001B[0m\u001B[0;34m,\u001B[0m \u001B[0menable_categorical\u001B[0m\u001B[0;34m\u001B[0m\u001B[0;34m\u001B[0m\u001B[0m\n\u001B[1;32m    642\u001B[0m     \u001B[0;34m)\u001B[0m\u001B[0;34m\u001B[0m\u001B[0;34m\u001B[0m\u001B[0m\n\u001B[1;32m    643\u001B[0m \u001B[0;34m\u001B[0m\u001B[0m\n\u001B[0;32m--> 644\u001B[0;31m     \u001B[0marrays\u001B[0m \u001B[0;34m=\u001B[0m \u001B[0mpandas_transform_data\u001B[0m\u001B[0;34m(\u001B[0m\u001B[0mdata\u001B[0m\u001B[0;34m)\u001B[0m\u001B[0;34m\u001B[0m\u001B[0;34m\u001B[0m\u001B[0m\n\u001B[0m\u001B[1;32m    645\u001B[0m     \u001B[0;32mreturn\u001B[0m \u001B[0mPandasTransformed\u001B[0m\u001B[0;34m(\u001B[0m\u001B[0marrays\u001B[0m\u001B[0;34m)\u001B[0m\u001B[0;34m,\u001B[0m \u001B[0mfeature_names\u001B[0m\u001B[0;34m,\u001B[0m \u001B[0mfeature_types\u001B[0m\u001B[0;34m\u001B[0m\u001B[0;34m\u001B[0m\u001B[0m\n",
      "\u001B[0;32m~/PycharmProjects/scientificProject/.venv/lib/python3.12/site-packages/xgboost/data.py\u001B[0m in \u001B[0;36m?\u001B[0;34m(data)\u001B[0m\n\u001B[1;32m    600\u001B[0m             \u001B[0;32mif\u001B[0m \u001B[0m_is_np_array_like\u001B[0m\u001B[0;34m(\u001B[0m\u001B[0marr\u001B[0m\u001B[0;34m)\u001B[0m\u001B[0;34m:\u001B[0m\u001B[0;34m\u001B[0m\u001B[0;34m\u001B[0m\u001B[0m\n\u001B[1;32m    601\u001B[0m                 \u001B[0marr\u001B[0m\u001B[0;34m,\u001B[0m \u001B[0m_\u001B[0m \u001B[0;34m=\u001B[0m \u001B[0m_ensure_np_dtype\u001B[0m\u001B[0;34m(\u001B[0m\u001B[0marr\u001B[0m\u001B[0;34m,\u001B[0m \u001B[0marr\u001B[0m\u001B[0;34m.\u001B[0m\u001B[0mdtype\u001B[0m\u001B[0;34m)\u001B[0m\u001B[0;34m\u001B[0m\u001B[0;34m\u001B[0m\u001B[0m\n\u001B[1;32m    602\u001B[0m             \u001B[0mresult\u001B[0m\u001B[0;34m.\u001B[0m\u001B[0mappend\u001B[0m\u001B[0;34m(\u001B[0m\u001B[0marr\u001B[0m\u001B[0;34m)\u001B[0m\u001B[0;34m\u001B[0m\u001B[0;34m\u001B[0m\u001B[0m\n\u001B[1;32m    603\u001B[0m         \u001B[0;32melse\u001B[0m\u001B[0;34m:\u001B[0m\u001B[0;34m\u001B[0m\u001B[0;34m\u001B[0m\u001B[0m\n\u001B[0;32m--> 604\u001B[0;31m             \u001B[0mresult\u001B[0m\u001B[0;34m.\u001B[0m\u001B[0mappend\u001B[0m\u001B[0;34m(\u001B[0m\u001B[0moth_type\u001B[0m\u001B[0;34m(\u001B[0m\u001B[0mdata\u001B[0m\u001B[0;34m[\u001B[0m\u001B[0mcol\u001B[0m\u001B[0;34m]\u001B[0m\u001B[0;34m)\u001B[0m\u001B[0;34m)\u001B[0m\u001B[0;34m\u001B[0m\u001B[0;34m\u001B[0m\u001B[0m\n\u001B[0m\u001B[1;32m    605\u001B[0m \u001B[0;34m\u001B[0m\u001B[0m\n\u001B[1;32m    606\u001B[0m     \u001B[0;31m# FIXME(jiamingy): Investigate the possibility of using dataframe protocol or arrow\u001B[0m\u001B[0;34m\u001B[0m\u001B[0;34m\u001B[0m\u001B[0m\n\u001B[1;32m    607\u001B[0m     \u001B[0;31m# IPC format for pandas so that we can apply the data transformation inside XGBoost\u001B[0m\u001B[0;34m\u001B[0m\u001B[0;34m\u001B[0m\u001B[0m\n",
      "\u001B[0;32m~/PycharmProjects/scientificProject/.venv/lib/python3.12/site-packages/xgboost/data.py\u001B[0m in \u001B[0;36m?\u001B[0;34m(ser)\u001B[0m\n\u001B[1;32m    566\u001B[0m     \u001B[0;32mdef\u001B[0m \u001B[0moth_type\u001B[0m\u001B[0;34m(\u001B[0m\u001B[0mser\u001B[0m\u001B[0;34m:\u001B[0m \u001B[0mPdSeries\u001B[0m\u001B[0;34m)\u001B[0m \u001B[0;34m->\u001B[0m \u001B[0mnp\u001B[0m\u001B[0;34m.\u001B[0m\u001B[0mndarray\u001B[0m\u001B[0;34m:\u001B[0m\u001B[0;34m\u001B[0m\u001B[0;34m\u001B[0m\u001B[0m\n\u001B[1;32m    567\u001B[0m         \u001B[0;31m# The dtypes module is added in 1.25.\u001B[0m\u001B[0;34m\u001B[0m\u001B[0;34m\u001B[0m\u001B[0m\n\u001B[1;32m    568\u001B[0m         npdtypes = np_dtypes and isinstance(\n\u001B[0;32m--> 569\u001B[0;31m             \u001B[0mser\u001B[0m\u001B[0;34m.\u001B[0m\u001B[0mdtype\u001B[0m\u001B[0;34m,\u001B[0m\u001B[0;34m\u001B[0m\u001B[0;34m\u001B[0m\u001B[0m\n\u001B[0m\u001B[1;32m    570\u001B[0m             (\n\u001B[1;32m    571\u001B[0m                 \u001B[0;31m# pylint: disable=no-member\u001B[0m\u001B[0;34m\u001B[0m\u001B[0;34m\u001B[0m\u001B[0m\n\u001B[1;32m    572\u001B[0m                 \u001B[0mnp\u001B[0m\u001B[0;34m.\u001B[0m\u001B[0mdtypes\u001B[0m\u001B[0;34m.\u001B[0m\u001B[0mFloat32DType\u001B[0m\u001B[0;34m,\u001B[0m  \u001B[0;31m# type: ignore\u001B[0m\u001B[0;34m\u001B[0m\u001B[0;34m\u001B[0m\u001B[0m\n",
      "\u001B[0;32m~/PycharmProjects/scientificProject/.venv/lib/python3.12/site-packages/pandas/core/generic.py\u001B[0m in \u001B[0;36m?\u001B[0;34m(self, name)\u001B[0m\n\u001B[1;32m   6295\u001B[0m             \u001B[0;32mand\u001B[0m \u001B[0mname\u001B[0m \u001B[0;32mnot\u001B[0m \u001B[0;32min\u001B[0m \u001B[0mself\u001B[0m\u001B[0;34m.\u001B[0m\u001B[0m_accessors\u001B[0m\u001B[0;34m\u001B[0m\u001B[0;34m\u001B[0m\u001B[0m\n\u001B[1;32m   6296\u001B[0m             \u001B[0;32mand\u001B[0m \u001B[0mself\u001B[0m\u001B[0;34m.\u001B[0m\u001B[0m_info_axis\u001B[0m\u001B[0;34m.\u001B[0m\u001B[0m_can_hold_identifiers_and_holds_name\u001B[0m\u001B[0;34m(\u001B[0m\u001B[0mname\u001B[0m\u001B[0;34m)\u001B[0m\u001B[0;34m\u001B[0m\u001B[0;34m\u001B[0m\u001B[0m\n\u001B[1;32m   6297\u001B[0m         \u001B[0;34m)\u001B[0m\u001B[0;34m:\u001B[0m\u001B[0;34m\u001B[0m\u001B[0;34m\u001B[0m\u001B[0m\n\u001B[1;32m   6298\u001B[0m             \u001B[0;32mreturn\u001B[0m \u001B[0mself\u001B[0m\u001B[0;34m[\u001B[0m\u001B[0mname\u001B[0m\u001B[0;34m]\u001B[0m\u001B[0;34m\u001B[0m\u001B[0;34m\u001B[0m\u001B[0m\n\u001B[0;32m-> 6299\u001B[0;31m         \u001B[0;32mreturn\u001B[0m \u001B[0mobject\u001B[0m\u001B[0;34m.\u001B[0m\u001B[0m__getattribute__\u001B[0m\u001B[0;34m(\u001B[0m\u001B[0mself\u001B[0m\u001B[0;34m,\u001B[0m \u001B[0mname\u001B[0m\u001B[0;34m)\u001B[0m\u001B[0;34m\u001B[0m\u001B[0;34m\u001B[0m\u001B[0m\n\u001B[0m",
      "\u001B[0;31mAttributeError\u001B[0m: 'DataFrame' object has no attribute 'dtype'"
     ]
    }
   ],
   "execution_count": 140
  },
  {
   "metadata": {
    "ExecuteTime": {
     "end_time": "2025-08-22T11:22:00.081468Z",
     "start_time": "2025-08-22T11:21:59.977681Z"
    }
   },
   "cell_type": "code",
   "source": [
    "threshold = 0.5\n",
    "y_proba = XGB_model5.predict_proba(X_test)[:, 1]\n",
    "y_pred = (y_proba >= threshold).astype(int)\n",
    "accuracy_RFC_model = accuracy_score(y_test, y_pred),\n",
    "report_RFC_model = classification_report(y_test, y_pred)\n",
    "print(accuracy_RFC_model)\n",
    "print(report_RFC_model)"
   ],
   "id": "66411fd7cd22d0c9",
   "outputs": [
    {
     "ename": "NotFittedError",
     "evalue": "need to call fit or load_model beforehand",
     "output_type": "error",
     "traceback": [
      "\u001B[0;31m---------------------------------------------------------------------------\u001B[0m",
      "\u001B[0;31mNotFittedError\u001B[0m                            Traceback (most recent call last)",
      "Cell \u001B[0;32mIn[101], line 2\u001B[0m\n\u001B[1;32m      1\u001B[0m threshold \u001B[38;5;241m=\u001B[39m \u001B[38;5;241m0.5\u001B[39m\n\u001B[0;32m----> 2\u001B[0m y_proba \u001B[38;5;241m=\u001B[39m \u001B[43mXGB_model5\u001B[49m\u001B[38;5;241;43m.\u001B[39;49m\u001B[43mpredict_proba\u001B[49m\u001B[43m(\u001B[49m\u001B[43mX_test\u001B[49m\u001B[43m)\u001B[49m[:, \u001B[38;5;241m1\u001B[39m]\n\u001B[1;32m      3\u001B[0m y_pred \u001B[38;5;241m=\u001B[39m (y_proba \u001B[38;5;241m>\u001B[39m\u001B[38;5;241m=\u001B[39m threshold)\u001B[38;5;241m.\u001B[39mastype(\u001B[38;5;28mint\u001B[39m)\n\u001B[1;32m      4\u001B[0m accuracy_RFC_model \u001B[38;5;241m=\u001B[39m accuracy_score(y_test, y_pred),\n",
      "File \u001B[0;32m~/PycharmProjects/scientificProject/.venv/lib/python3.12/site-packages/xgboost/sklearn.py:1798\u001B[0m, in \u001B[0;36mXGBClassifier.predict_proba\u001B[0;34m(self, X, validate_features, base_margin, iteration_range)\u001B[0m\n\u001B[1;32m   1796\u001B[0m     class_prob \u001B[38;5;241m=\u001B[39m softmax(raw_predt, axis\u001B[38;5;241m=\u001B[39m\u001B[38;5;241m1\u001B[39m)\n\u001B[1;32m   1797\u001B[0m     \u001B[38;5;28;01mreturn\u001B[39;00m class_prob\n\u001B[0;32m-> 1798\u001B[0m class_probs \u001B[38;5;241m=\u001B[39m \u001B[38;5;28;43msuper\u001B[39;49m\u001B[43m(\u001B[49m\u001B[43m)\u001B[49m\u001B[38;5;241;43m.\u001B[39;49m\u001B[43mpredict\u001B[49m\u001B[43m(\u001B[49m\n\u001B[1;32m   1799\u001B[0m \u001B[43m    \u001B[49m\u001B[43mX\u001B[49m\u001B[38;5;241;43m=\u001B[39;49m\u001B[43mX\u001B[49m\u001B[43m,\u001B[49m\n\u001B[1;32m   1800\u001B[0m \u001B[43m    \u001B[49m\u001B[43mvalidate_features\u001B[49m\u001B[38;5;241;43m=\u001B[39;49m\u001B[43mvalidate_features\u001B[49m\u001B[43m,\u001B[49m\n\u001B[1;32m   1801\u001B[0m \u001B[43m    \u001B[49m\u001B[43mbase_margin\u001B[49m\u001B[38;5;241;43m=\u001B[39;49m\u001B[43mbase_margin\u001B[49m\u001B[43m,\u001B[49m\n\u001B[1;32m   1802\u001B[0m \u001B[43m    \u001B[49m\u001B[43miteration_range\u001B[49m\u001B[38;5;241;43m=\u001B[39;49m\u001B[43miteration_range\u001B[49m\u001B[43m,\u001B[49m\n\u001B[1;32m   1803\u001B[0m \u001B[43m\u001B[49m\u001B[43m)\u001B[49m\n\u001B[1;32m   1804\u001B[0m \u001B[38;5;28;01mreturn\u001B[39;00m _cls_predict_proba(\u001B[38;5;28mself\u001B[39m\u001B[38;5;241m.\u001B[39mn_classes_, class_probs, np\u001B[38;5;241m.\u001B[39mvstack)\n",
      "File \u001B[0;32m~/PycharmProjects/scientificProject/.venv/lib/python3.12/site-packages/xgboost/core.py:729\u001B[0m, in \u001B[0;36mrequire_keyword_args.<locals>.throw_if.<locals>.inner_f\u001B[0;34m(*args, **kwargs)\u001B[0m\n\u001B[1;32m    727\u001B[0m \u001B[38;5;28;01mfor\u001B[39;00m k, arg \u001B[38;5;129;01min\u001B[39;00m \u001B[38;5;28mzip\u001B[39m(sig\u001B[38;5;241m.\u001B[39mparameters, args):\n\u001B[1;32m    728\u001B[0m     kwargs[k] \u001B[38;5;241m=\u001B[39m arg\n\u001B[0;32m--> 729\u001B[0m \u001B[38;5;28;01mreturn\u001B[39;00m \u001B[43mfunc\u001B[49m\u001B[43m(\u001B[49m\u001B[38;5;241;43m*\u001B[39;49m\u001B[38;5;241;43m*\u001B[39;49m\u001B[43mkwargs\u001B[49m\u001B[43m)\u001B[49m\n",
      "File \u001B[0;32m~/PycharmProjects/scientificProject/.venv/lib/python3.12/site-packages/xgboost/sklearn.py:1327\u001B[0m, in \u001B[0;36mXGBModel.predict\u001B[0;34m(self, X, output_margin, validate_features, base_margin, iteration_range)\u001B[0m\n\u001B[1;32m   1325\u001B[0m \u001B[38;5;28;01mif\u001B[39;00m \u001B[38;5;28mself\u001B[39m\u001B[38;5;241m.\u001B[39m_can_use_inplace_predict():\n\u001B[1;32m   1326\u001B[0m     \u001B[38;5;28;01mtry\u001B[39;00m:\n\u001B[0;32m-> 1327\u001B[0m         predts \u001B[38;5;241m=\u001B[39m \u001B[38;5;28;43mself\u001B[39;49m\u001B[38;5;241;43m.\u001B[39;49m\u001B[43mget_booster\u001B[49m\u001B[43m(\u001B[49m\u001B[43m)\u001B[49m\u001B[38;5;241m.\u001B[39minplace_predict(\n\u001B[1;32m   1328\u001B[0m             data\u001B[38;5;241m=\u001B[39mX,\n\u001B[1;32m   1329\u001B[0m             iteration_range\u001B[38;5;241m=\u001B[39miteration_range,\n\u001B[1;32m   1330\u001B[0m             predict_type\u001B[38;5;241m=\u001B[39m\u001B[38;5;124m\"\u001B[39m\u001B[38;5;124mmargin\u001B[39m\u001B[38;5;124m\"\u001B[39m \u001B[38;5;28;01mif\u001B[39;00m output_margin \u001B[38;5;28;01melse\u001B[39;00m \u001B[38;5;124m\"\u001B[39m\u001B[38;5;124mvalue\u001B[39m\u001B[38;5;124m\"\u001B[39m,\n\u001B[1;32m   1331\u001B[0m             missing\u001B[38;5;241m=\u001B[39m\u001B[38;5;28mself\u001B[39m\u001B[38;5;241m.\u001B[39mmissing,\n\u001B[1;32m   1332\u001B[0m             base_margin\u001B[38;5;241m=\u001B[39mbase_margin,\n\u001B[1;32m   1333\u001B[0m             validate_features\u001B[38;5;241m=\u001B[39mvalidate_features,\n\u001B[1;32m   1334\u001B[0m         )\n\u001B[1;32m   1335\u001B[0m         \u001B[38;5;28;01mif\u001B[39;00m _is_cupy_alike(predts):\n\u001B[1;32m   1336\u001B[0m             cp \u001B[38;5;241m=\u001B[39m import_cupy()\n",
      "File \u001B[0;32m~/PycharmProjects/scientificProject/.venv/lib/python3.12/site-packages/xgboost/sklearn.py:922\u001B[0m, in \u001B[0;36mXGBModel.get_booster\u001B[0;34m(self)\u001B[0m\n\u001B[1;32m    919\u001B[0m \u001B[38;5;28;01mif\u001B[39;00m \u001B[38;5;129;01mnot\u001B[39;00m \u001B[38;5;28mself\u001B[39m\u001B[38;5;241m.\u001B[39m__sklearn_is_fitted__():\n\u001B[1;32m    920\u001B[0m     \u001B[38;5;28;01mfrom\u001B[39;00m\u001B[38;5;250m \u001B[39m\u001B[38;5;21;01msklearn\u001B[39;00m\u001B[38;5;21;01m.\u001B[39;00m\u001B[38;5;21;01mexceptions\u001B[39;00m\u001B[38;5;250m \u001B[39m\u001B[38;5;28;01mimport\u001B[39;00m NotFittedError\n\u001B[0;32m--> 922\u001B[0m     \u001B[38;5;28;01mraise\u001B[39;00m NotFittedError(\u001B[38;5;124m\"\u001B[39m\u001B[38;5;124mneed to call fit or load_model beforehand\u001B[39m\u001B[38;5;124m\"\u001B[39m)\n\u001B[1;32m    923\u001B[0m \u001B[38;5;28;01mreturn\u001B[39;00m \u001B[38;5;28mself\u001B[39m\u001B[38;5;241m.\u001B[39m_Booster\n",
      "\u001B[0;31mNotFittedError\u001B[0m: need to call fit or load_model beforehand"
     ]
    }
   ],
   "execution_count": 101
  },
  {
   "metadata": {
    "ExecuteTime": {
     "end_time": "2025-08-22T10:51:11.847864Z",
     "start_time": "2025-08-22T10:51:11.765812Z"
    }
   },
   "cell_type": "code",
   "source": [
    "val_prediction_proba = XGB_model5.predict_proba(conecting_data_val)[:, 1]\n",
    "val_prediction = (val_prediction_proba >= threshold).astype(int)\n",
    "\n",
    "val_prediction.sum()"
   ],
   "id": "9f798120414bd3f3",
   "outputs": [
    {
     "data": {
      "text/plain": [
       "np.int64(2273)"
      ]
     },
     "execution_count": 23,
     "metadata": {},
     "output_type": "execute_result"
    }
   ],
   "execution_count": 23
  },
  {
   "metadata": {
    "ExecuteTime": {
     "end_time": "2025-08-22T10:51:39.085252Z",
     "start_time": "2025-08-22T10:51:39.056477Z"
    }
   },
   "cell_type": "code",
   "source": [
    "submission = pd.DataFrame({\n",
    "    'id': data_val2['id'],\n",
    "    'prediction': val_prediction\n",
    "    \n",
    "})\n",
    "submission.to_csv('/Users/vladislavdemin/Desktop/ml_hack/submission1.csv', index=False)\n",
    "dddd = pd.read_csv('/Users/vladislavdemin/Desktop/ml_hack/submission1.csv')\n",
    "dddd['prediction'].sum()"
   ],
   "id": "8928f49958c97881",
   "outputs": [
    {
     "data": {
      "text/plain": [
       "np.int64(2273)"
      ]
     },
     "execution_count": 25,
     "metadata": {},
     "output_type": "execute_result"
    }
   ],
   "execution_count": 25
  },
  {
   "metadata": {},
   "cell_type": "code",
   "outputs": [],
   "execution_count": null,
   "source": "",
   "id": "661cb03cddd30a95"
  }
 ],
 "metadata": {
  "kernelspec": {
   "display_name": "Python 3",
   "language": "python",
   "name": "python3"
  },
  "language_info": {
   "codemirror_mode": {
    "name": "ipython",
    "version": 2
   },
   "file_extension": ".py",
   "mimetype": "text/x-python",
   "name": "python",
   "nbconvert_exporter": "python",
   "pygments_lexer": "ipython2",
   "version": "2.7.6"
  }
 },
 "nbformat": 4,
 "nbformat_minor": 5
}
