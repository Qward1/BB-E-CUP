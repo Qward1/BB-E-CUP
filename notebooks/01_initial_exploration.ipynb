{
 "cells": [
  {
   "cell_type": "code",
   "execution_count": null,
   "id": "initial_id",
   "metadata": {
    "collapsed": true
   },
   "outputs": [],
   "source": [
    "import pandas as pd\n",
    "import numpy as np\n",
    "from pathlib import Path\n",
    "\n",
    "# Загрузка sample данных\n",
    "df_sample = pd.read_parquet('data/raw/train.parquet', \n",
    "                           engine='pyarrow').sample(10000)\n",
    "\n",
    "# Основные проверки\n",
    "print(f\"Shape: {df_sample.shape}\")\n",
    "print(f\"Columns: {df_sample.columns.tolist()}\")\n",
    "print(f\"Missing values:\\n{df_sample.isnull().sum()}\")\n",
    "print(f\"Target distribution:\\n{df_sample['is_counterfeit'].value_counts(normalize=True)}\")\n",
    "\n",
    "# Анализ текстов\n",
    "text_lengths = df_sample['description'].fillna('').str.len()\n",
    "print(f\"Text length stats:\\n{text_lengths.describe()}\")\n",
    "\n",
    "# Анализ метаданных\n",
    "print(f\"Price stats:\\n{df_sample['price'].describe()}\")\n",
    "print(f\"Brands count: {df_sample['brand'].nunique()}\")"
   ]
  }
 ],
 "metadata": {
  "kernelspec": {
   "display_name": "Python 3",
   "language": "python",
   "name": "python3"
  },
  "language_info": {
   "codemirror_mode": {
    "name": "ipython",
    "version": 2
   },
   "file_extension": ".py",
   "mimetype": "text/x-python",
   "name": "python",
   "nbconvert_exporter": "python",
   "pygments_lexer": "ipython2",
   "version": "2.7.6"
  }
 },
 "nbformat": 4,
 "nbformat_minor": 5
}
